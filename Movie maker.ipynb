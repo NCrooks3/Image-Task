{
 "cells": [
  {
   "cell_type": "code",
   "execution_count": 2,
   "id": "67224c0c",
   "metadata": {},
   "outputs": [],
   "source": [
    "import imageio\n",
    "import os"
   ]
  },
  {
   "cell_type": "code",
   "execution_count": 3,
   "id": "9741ee44",
   "metadata": {},
   "outputs": [
    {
     "name": "stdout",
     "output_type": "stream",
     "text": [
      "Video saved as animation_120fps.mp4\n"
     ]
    }
   ],
   "source": [
    "frame_dir = './'  # Directory where the frames are saved\n",
    "video_filename = 'animation_120fps.mp4'  # Name of the output video file\n",
    "\n",
    "# List all saved frame files\n",
    "frame_files = [f for f in os.listdir(frame_dir) if f.endswith('.png')]\n",
    "frame_files.sort()  # Sort to maintain the correct order\n",
    "\n",
    "# Create a video writer object\n",
    "with imageio.get_writer(video_filename, fps=120) as writer:\n",
    "    for frame_file in frame_files:\n",
    "        frame_path = os.path.join(frame_dir, frame_file)\n",
    "        image = imageio.imread(frame_path)\n",
    "        writer.append_data(image)\n",
    "\n",
    "print(f\"Video saved as {video_filename}\")"
   ]
  },
  {
   "cell_type": "code",
   "execution_count": null,
   "id": "775e350c",
   "metadata": {},
   "outputs": [],
   "source": []
  }
 ],
 "metadata": {
  "kernelspec": {
   "display_name": "Python 3",
   "language": "python",
   "name": "python3"
  },
  "language_info": {
   "codemirror_mode": {
    "name": "ipython",
    "version": 3
   },
   "file_extension": ".py",
   "mimetype": "text/x-python",
   "name": "python",
   "nbconvert_exporter": "python",
   "pygments_lexer": "ipython3",
   "version": "3.8.8"
  }
 },
 "nbformat": 4,
 "nbformat_minor": 5
}
